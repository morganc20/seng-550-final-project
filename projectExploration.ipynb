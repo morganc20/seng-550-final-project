{
 "cells": [
  {
   "metadata": {
    "ExecuteTime": {
     "end_time": "2024-12-11T21:54:13.819038Z",
     "start_time": "2024-12-11T21:54:13.126322Z"
    }
   },
   "cell_type": "code",
   "source": [
    "import boto3\n",
    "import json\n",
    "from dotenv import load_dotenv\n",
    "import os\n",
    "\n",
    "# Load environment variables from .env file\n",
    "load_dotenv()\n",
    "\n",
    "def load_jsonl_from_s3(bucket_name, file_key):\n",
    "    \"\"\"\n",
    "    Load a JSONL file from an S3 bucket using credentials from environment variables.\n",
    "\n",
    "    Parameters:\n",
    "    - bucket_name: str - Name of the S3 bucket.\n",
    "    - file_key: str - Key (path) of the JSONL file in the bucket.\n",
    "\n",
    "    Returns:\n",
    "    - List of Python dictionaries loaded from the JSONL file.\n",
    "    \"\"\"\n",
    "    # Get AWS credentials from environment variables\n",
    "    aws_access_key_id = os.getenv(\"AWS_ACCESS_KEY_ID\")\n",
    "    aws_secret_access_key = os.getenv(\"AWS_SECRET_ACCESS_KEY\")\n",
    "    region_name = os.getenv(\"AWS_REGION\")\n",
    "    \n",
    "    # Initialize an S3 client\n",
    "    s3_client = boto3.client(\n",
    "        's3',\n",
    "        aws_access_key_id=aws_access_key_id,\n",
    "        aws_secret_access_key=aws_secret_access_key,\n",
    "        region_name=region_name\n",
    "    )\n",
    "    \n",
    "    # Retrieve the file content\n",
    "    response = s3_client.get_object(Bucket=bucket_name, Key=file_key)\n",
    "    content = response['Body'].read().decode('utf-8')\n",
    "    \n",
    "    # Parse the JSONL content\n",
    "    data = [json.loads(line) for line in content.splitlines() if line.strip()]\n",
    "    \n",
    "    return data\n",
    "\n",
    "# Example usage\n",
    "if __name__ == \"__main__\":\n",
    "    bucket_name = \"small-reviews584\"\n",
    "    file_key = \"data/reviews_small.jsonl\"\n",
    "    \n",
    "    data = load_jsonl_from_s3(bucket_name, file_key)"
   ],
   "id": "fbc121e30a2defb3",
   "outputs": [],
   "execution_count": 6
  }
 ],
 "metadata": {
  "kernelspec": {
   "display_name": "Python 3",
   "language": "python",
   "name": "python3"
  },
  "language_info": {
   "codemirror_mode": {
    "name": "ipython",
    "version": 2
   },
   "file_extension": ".py",
   "mimetype": "text/x-python",
   "name": "python",
   "nbconvert_exporter": "python",
   "pygments_lexer": "ipython2",
   "version": "2.7.6"
  }
 },
 "nbformat": 4,
 "nbformat_minor": 5
}
